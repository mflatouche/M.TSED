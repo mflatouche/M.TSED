{
 "cells": [
  {
   "cell_type": "markdown",
   "metadata": {},
   "source": [
    "# Ejemplo práctico. Movimiento incipiente"
   ]
  },
  {
   "cell_type": "markdown",
   "metadata": {},
   "source": [
    "Un cauce está constituido por arenas de tamaño uniforme y conduce agua clara. La densidad relativa promedio de esas arenas es S=2.677209 y el tamaño de las partículas de arena es d=0.241 mm. Si la temperatura del agua es de 15 °C, calcular el esfuerzo cortante crítico del cauce, según el criterio de Shields."
   ]
  },
  {
   "cell_type": "markdown",
   "metadata": {},
   "source": [
    "## Solución"
   ]
  },
  {
   "cell_type": "markdown",
   "metadata": {},
   "source": [
    "Con base en lo estudiado en este capítulo, el problema se puede resolver de cuatro formas distintas:\n",
    "1. Diagrama de Shields (t\\*c vs R\\*c) (Iterativamente)\n",
    "2. Diagrama de Shields (t\\*c vs D\\*c) (Directo)\n",
    "3. Ecuaciones de Maza (t\\*c vs R\\*c) (Iterativamente)\n",
    "4. Ecuaciones de Maza (t\\*c vs D\\*c) (Directo)"
   ]
  },
  {
   "cell_type": "markdown",
   "metadata": {},
   "source": [
    "### Datos"
   ]
  },
  {
   "cell_type": "code",
   "execution_count": 1,
   "metadata": {},
   "outputs": [],
   "source": [
    "rho=999.10;gamma=9797.78;nu=1.14131*(10**-6);d=0.241/1000;S=2.677209; g=9.81;"
   ]
  },
  {
   "cell_type": "code",
   "execution_count": 2,
   "metadata": {},
   "outputs": [
    {
     "data": {
      "text/plain": [
       "26230.70479602"
      ]
     },
     "execution_count": 2,
     "metadata": {},
     "output_type": "execute_result"
    }
   ],
   "source": [
    "gammas=gamma*S\n",
    "gammas"
   ]
  },
  {
   "cell_type": "markdown",
   "metadata": {},
   "source": [
    "### Bibliotecas"
   ]
  },
  {
   "cell_type": "code",
   "execution_count": 3,
   "metadata": {},
   "outputs": [],
   "source": [
    "import numpy as np"
   ]
  },
  {
   "cell_type": "markdown",
   "metadata": {},
   "source": [
    "### 3. Ecuaciones de Maza (t\\*c vs R\\*c) (Iterativamente)"
   ]
  },
  {
   "cell_type": "code",
   "execution_count": 4,
   "metadata": {},
   "outputs": [],
   "source": [
    "def Tc_Rc(Rc):\n",
    "    if Rc <= 1500:\n",
    "        T=(0.097/Rc)+0.077*np.exp(-((19.58/Rc)**0.3191))\n",
    "    else:\n",
    "        T=0.06\n",
    "    return T"
   ]
  },
  {
   "cell_type": "code",
   "execution_count": 5,
   "metadata": {},
   "outputs": [],
   "source": [
    "# Se define un valor inicial para el esfuerzo cortante crítico adimensional\n",
    "Tc1=0.03"
   ]
  },
  {
   "cell_type": "code",
   "execution_count": 6,
   "metadata": {},
   "outputs": [
    {
     "data": {
      "text/plain": [
       "0.11881004627522461"
      ]
     },
     "execution_count": 6,
     "metadata": {},
     "output_type": "execute_result"
    }
   ],
   "source": [
    "# Calcular el esfuerzo cortante crítico\n",
    "tc1=Tc1*(gammas-gamma)*d\n",
    "tc1 #N/m2"
   ]
  },
  {
   "cell_type": "code",
   "execution_count": 7,
   "metadata": {},
   "outputs": [
    {
     "data": {
      "text/plain": [
       "0.010904910437032499"
      ]
     },
     "execution_count": 7,
     "metadata": {},
     "output_type": "execute_result"
    }
   ],
   "source": [
    "# Calcular la velocidad de corte\n",
    "Uc1=(tc1/rho)**(1/2)\n",
    "Uc1 #m/s"
   ]
  },
  {
   "cell_type": "code",
   "execution_count": 8,
   "metadata": {},
   "outputs": [
    {
     "data": {
      "text/plain": [
       "2.302690255342398"
      ]
     },
     "execution_count": 8,
     "metadata": {},
     "output_type": "execute_result"
    }
   ],
   "source": [
    "# Calcular el número de Reynolds de corte\n",
    "Rc1=(Uc1*d)/nu\n",
    "Rc1"
   ]
  },
  {
   "cell_type": "code",
   "execution_count": 9,
   "metadata": {},
   "outputs": [
    {
     "data": {
      "text/plain": [
       "0.05275777124815767"
      ]
     },
     "execution_count": 9,
     "metadata": {},
     "output_type": "execute_result"
    }
   ],
   "source": [
    "# Determinar el esfuerzo cortante crítico adimensional\n",
    "Tc2=Tc_Rc(Rc1)\n",
    "Tc2"
   ]
  },
  {
   "cell_type": "code",
   "execution_count": 10,
   "metadata": {},
   "outputs": [
    {
     "data": {
      "text/plain": [
       "0.2089384414457109"
      ]
     },
     "execution_count": 10,
     "metadata": {},
     "output_type": "execute_result"
    }
   ],
   "source": [
    "# Calcular el esfuerzo cortante crítico, comparar con el anterior\n",
    "tc2=Tc2*(gammas-gamma)*d\n",
    "tc2"
   ]
  },
  {
   "cell_type": "code",
   "execution_count": 11,
   "metadata": {},
   "outputs": [],
   "source": [
    "tol=0.0000001\n",
    "Tc_n=0.03\n",
    "Tc_o=1/tol\n",
    "i=0"
   ]
  },
  {
   "cell_type": "code",
   "execution_count": 12,
   "metadata": {},
   "outputs": [
    {
     "name": "stdout",
     "output_type": "stream",
     "text": [
      "1\n",
      "Tc= 0.03\n",
      "tc= 0.11881004627522461 N/m2\n",
      "2\n",
      "Tc= 0.05275777124815767\n",
      "tc= 0.2089384414457109 N/m2\n",
      "3\n",
      "Tc= 0.04437546789618843\n",
      "tc= 0.1757417131410297 N/m2\n",
      "4\n",
      "Tc= 0.04662321133508378\n",
      "tc= 0.18464352987402932 N/m2\n",
      "5\n",
      "Tc= 0.04595435484764021\n",
      "tc= 0.1819946341998742 N/m2\n",
      "6\n",
      "Tc= 0.046147675043998596\n",
      "tc= 0.18276024691571668 N/m2\n",
      "7\n",
      "Tc= 0.04609131898965545\n",
      "tc= 0.18253705806823675 N/m2\n",
      "8\n",
      "Tc= 0.046107706966959684\n",
      "tc= 0.1826019599462992 N/m2\n",
      "9\n",
      "Tc= 0.04610293800077235\n",
      "tc= 0.1825830732431858 N/m2\n",
      "10\n",
      "Tc= 0.04610432549684961\n",
      "tc= 0.18258856819229066 N/m2\n",
      "11\n",
      "Tc= 0.046103921790229555\n",
      "tc= 0.18258696937888366 N/m2\n",
      "12\n",
      "Tc= 0.04610403925083712\n",
      "tc= 0.18258743456222432 N/m2\n"
     ]
    }
   ],
   "source": [
    "while abs(Tc_n-Tc_o)>tol:\n",
    "    Tc_o=Tc_n\n",
    "    tc=Tc_o*(gammas-gamma)*d\n",
    "    Uc=(tc/rho)**(1/2)\n",
    "    Rc=(Uc*d)/nu\n",
    "    Tc_n=Tc_Rc(Rc)\n",
    "    i=i+1\n",
    "    print(i)\n",
    "    print(\"Tc=\",Tc_o)\n",
    "    print(\"tc=\",tc,\"N/m2\")"
   ]
  },
  {
   "cell_type": "code",
   "execution_count": 13,
   "metadata": {},
   "outputs": [
    {
     "name": "stdout",
     "output_type": "stream",
     "text": [
      "tc= 0.1825872992139336 N/m2\n"
     ]
    }
   ],
   "source": [
    "tc3=Tc_n*(gammas-gamma)*d\n",
    "print(\"tc=\",tc3,\"N/m2\")"
   ]
  },
  {
   "cell_type": "markdown",
   "metadata": {},
   "source": [
    "### 4. Ecuaciones de Maza (t\\*c vs D\\*c) (Directo)"
   ]
  },
  {
   "cell_type": "code",
   "execution_count": 14,
   "metadata": {},
   "outputs": [],
   "source": [
    "def Tc_Dc(Dc):\n",
    "    if Dc <= 333:\n",
    "        T=(0.2196/Dc)+0.077*np.exp(-((30.35/Dc)**0.563))\n",
    "    else:\n",
    "        T=0.06\n",
    "    return T"
   ]
  },
  {
   "cell_type": "code",
   "execution_count": 15,
   "metadata": {},
   "outputs": [
    {
     "data": {
      "text/plain": [
       "5.612633594640145"
      ]
     },
     "execution_count": 15,
     "metadata": {},
     "output_type": "execute_result"
    }
   ],
   "source": [
    "Dc=d*(((((gammas-gamma)/gamma))*(g/(nu**2)))**(1/3))\n",
    "Dc"
   ]
  },
  {
   "cell_type": "code",
   "execution_count": 16,
   "metadata": {},
   "outputs": [
    {
     "data": {
      "text/plain": [
       "0.044924125319460155"
      ]
     },
     "execution_count": 16,
     "metadata": {},
     "output_type": "execute_result"
    }
   ],
   "source": [
    "Tc=Tc_Dc(Dc)\n",
    "Tc"
   ]
  },
  {
   "cell_type": "code",
   "execution_count": 17,
   "metadata": {},
   "outputs": [
    {
     "name": "stdout",
     "output_type": "stream",
     "text": [
      "tc= 0.17791458026930168 N/m2\n"
     ]
    }
   ],
   "source": [
    "tc3=Tc*(gammas-gamma)*d\n",
    "print(\"tc=\",tc3,\"N/m2\")"
   ]
  },
  {
   "cell_type": "code",
   "execution_count": null,
   "metadata": {},
   "outputs": [],
   "source": []
  }
 ],
 "metadata": {
  "kernelspec": {
   "display_name": "Python 3",
   "language": "python",
   "name": "python3"
  },
  "language_info": {
   "codemirror_mode": {
    "name": "ipython",
    "version": 3
   },
   "file_extension": ".py",
   "mimetype": "text/x-python",
   "name": "python",
   "nbconvert_exporter": "python",
   "pygments_lexer": "ipython3",
   "version": "3.8.5"
  }
 },
 "nbformat": 4,
 "nbformat_minor": 4
}
